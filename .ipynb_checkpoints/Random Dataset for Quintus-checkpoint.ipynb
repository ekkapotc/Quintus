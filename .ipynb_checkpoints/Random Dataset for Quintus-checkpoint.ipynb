{
 "cells": [
  {
   "cell_type": "code",
   "execution_count": 34,
   "id": "63a32b6a",
   "metadata": {},
   "outputs": [],
   "source": [
    "import csv\n",
    "import random\n",
    "import datetime\n",
    "import pandas as pd"
   ]
  },
  {
   "cell_type": "code",
   "execution_count": 35,
   "id": "9c65b247",
   "metadata": {},
   "outputs": [],
   "source": [
    "def random_date():\n",
    "    currentTime = datetime.datetime.now()\n",
    "    nextTime = currentTime + datetime.timedelta(minutes=random.randrange(60))\n",
    "    return nextTime  "
   ]
  },
  {
   "cell_type": "code",
   "execution_count": 36,
   "id": "aed8e30b",
   "metadata": {},
   "outputs": [
    {
     "name": "stdout",
     "output_type": "stream",
     "text": [
      "Enter the number of records to generate: 100\n"
     ]
    }
   ],
   "source": [
    "records = int(input('Enter the number of records to generate: '))"
   ]
  },
  {
   "cell_type": "code",
   "execution_count": 37,
   "id": "220da7d0",
   "metadata": {},
   "outputs": [
    {
     "name": "stdout",
     "output_type": "stream",
     "text": [
      "Generating 100 records...\n",
      "\n"
     ]
    }
   ],
   "source": [
    "print('Generating {0} records...\\n'.format(records))\n"
   ]
  },
  {
   "cell_type": "code",
   "execution_count": 67,
   "id": "9b6975bc",
   "metadata": {},
   "outputs": [],
   "source": [
    "columns =['LightID','Timestamp','V1','V2','V3','V4','V5','Distance','Color','Result']"
   ]
  },
  {
   "cell_type": "code",
   "execution_count": 68,
   "id": "b5cf129b",
   "metadata": {},
   "outputs": [],
   "source": [
    "possible_colors   =['W', 'R', 'B', 'G']"
   ]
  },
  {
   "cell_type": "code",
   "execution_count": 69,
   "id": "3c5b35ae",
   "metadata": {},
   "outputs": [],
   "source": [
    "possible_outcomes =['Pass', 'Fail']"
   ]
  },
  {
   "cell_type": "code",
   "execution_count": 70,
   "id": "02066330",
   "metadata": {},
   "outputs": [],
   "source": [
    "timestamps = list()\n",
    "lightids   = list()\n",
    "v1s = list()\n",
    "v2s = list()\n",
    "v3s = list()\n",
    "v4s = list()\n",
    "v5s = list()\n",
    "distances = list()\n",
    "colors = list()\n",
    "outcomes = list()"
   ]
  },
  {
   "cell_type": "code",
   "execution_count": 71,
   "id": "8b17b93a",
   "metadata": {},
   "outputs": [],
   "source": [
    "for i in range(0, records):\n",
    "    lightids.append(i+1)\n",
    "    timestamps.append(random_date()) \n",
    "    v1s.append(random.uniform(40,50))\n",
    "    v2s.append(random.uniform(40,50))\n",
    "    v3s.append(random.uniform(40,50))\n",
    "    v4s.append(random.uniform(40,50))\n",
    "    v5s.append(random.uniform(40,50))\n",
    "    distances.append(random.uniform(0.50,1.80))\n",
    "    colors.append(random.choice(possible_colors))\n",
    "    outcomes.append(random.choice(possible_outcomes))"
   ]
  },
  {
   "cell_type": "code",
   "execution_count": 72,
   "id": "d046af64",
   "metadata": {},
   "outputs": [],
   "source": [
    "data = {    columns[0]:lightids,\n",
    "            columns[1]:timestamps,\n",
    "            columns[2]:v1s,\n",
    "            columns[3]:v2s,\n",
    "            columns[4]:v3s,\n",
    "            columns[5]:v4s,\n",
    "            columns[6]:v5s,\n",
    "            columns[7]:distances,\n",
    "            columns[8]:colors,\n",
    "            columns[9]:outcomes\n",
    "       }"
   ]
  },
  {
   "cell_type": "code",
   "execution_count": 78,
   "id": "9aa27c2c",
   "metadata": {},
   "outputs": [],
   "source": [
    "df = pd.DataFrame(data=data,columns=columns)"
   ]
  },
  {
   "cell_type": "code",
   "execution_count": 74,
   "id": "6dd398ac",
   "metadata": {},
   "outputs": [],
   "source": [
    "pd.options.display.max_rows = 10"
   ]
  },
  {
   "cell_type": "code",
   "execution_count": 81,
   "id": "d6af24d9",
   "metadata": {},
   "outputs": [],
   "source": [
    "df.set_index(['LightID'],inplace=True)"
   ]
  },
  {
   "cell_type": "code",
   "execution_count": 82,
   "id": "5873ebbd",
   "metadata": {
    "scrolled": true
   },
   "outputs": [
    {
     "data": {
      "text/html": [
       "<div>\n",
       "<style scoped>\n",
       "    .dataframe tbody tr th:only-of-type {\n",
       "        vertical-align: middle;\n",
       "    }\n",
       "\n",
       "    .dataframe tbody tr th {\n",
       "        vertical-align: top;\n",
       "    }\n",
       "\n",
       "    .dataframe thead th {\n",
       "        text-align: right;\n",
       "    }\n",
       "</style>\n",
       "<table border=\"1\" class=\"dataframe\">\n",
       "  <thead>\n",
       "    <tr style=\"text-align: right;\">\n",
       "      <th></th>\n",
       "      <th>Timestamp</th>\n",
       "      <th>V1</th>\n",
       "      <th>V2</th>\n",
       "      <th>V3</th>\n",
       "      <th>V4</th>\n",
       "      <th>V5</th>\n",
       "      <th>Distance</th>\n",
       "      <th>Color</th>\n",
       "      <th>Result</th>\n",
       "    </tr>\n",
       "    <tr>\n",
       "      <th>LightID</th>\n",
       "      <th></th>\n",
       "      <th></th>\n",
       "      <th></th>\n",
       "      <th></th>\n",
       "      <th></th>\n",
       "      <th></th>\n",
       "      <th></th>\n",
       "      <th></th>\n",
       "      <th></th>\n",
       "    </tr>\n",
       "  </thead>\n",
       "  <tbody>\n",
       "    <tr>\n",
       "      <th>1</th>\n",
       "      <td>2021-04-07 20:53:46.605293</td>\n",
       "      <td>40.987615</td>\n",
       "      <td>46.679891</td>\n",
       "      <td>40.488626</td>\n",
       "      <td>45.819454</td>\n",
       "      <td>45.736027</td>\n",
       "      <td>1.749414</td>\n",
       "      <td>B</td>\n",
       "      <td>Pass</td>\n",
       "    </tr>\n",
       "    <tr>\n",
       "      <th>2</th>\n",
       "      <td>2021-04-07 21:09:46.605293</td>\n",
       "      <td>48.106033</td>\n",
       "      <td>46.884894</td>\n",
       "      <td>41.052973</td>\n",
       "      <td>47.393100</td>\n",
       "      <td>49.883844</td>\n",
       "      <td>1.427993</td>\n",
       "      <td>R</td>\n",
       "      <td>Fail</td>\n",
       "    </tr>\n",
       "    <tr>\n",
       "      <th>3</th>\n",
       "      <td>2021-04-07 21:46:46.605293</td>\n",
       "      <td>40.715893</td>\n",
       "      <td>46.007919</td>\n",
       "      <td>44.163590</td>\n",
       "      <td>47.763488</td>\n",
       "      <td>47.862018</td>\n",
       "      <td>1.775409</td>\n",
       "      <td>R</td>\n",
       "      <td>Pass</td>\n",
       "    </tr>\n",
       "    <tr>\n",
       "      <th>4</th>\n",
       "      <td>2021-04-07 21:49:46.605293</td>\n",
       "      <td>48.016920</td>\n",
       "      <td>46.101348</td>\n",
       "      <td>45.459285</td>\n",
       "      <td>41.196438</td>\n",
       "      <td>46.440977</td>\n",
       "      <td>1.698264</td>\n",
       "      <td>G</td>\n",
       "      <td>Pass</td>\n",
       "    </tr>\n",
       "    <tr>\n",
       "      <th>5</th>\n",
       "      <td>2021-04-07 21:24:46.605293</td>\n",
       "      <td>42.023001</td>\n",
       "      <td>42.660950</td>\n",
       "      <td>42.346841</td>\n",
       "      <td>41.741622</td>\n",
       "      <td>42.625973</td>\n",
       "      <td>0.616251</td>\n",
       "      <td>B</td>\n",
       "      <td>Pass</td>\n",
       "    </tr>\n",
       "    <tr>\n",
       "      <th>...</th>\n",
       "      <td>...</td>\n",
       "      <td>...</td>\n",
       "      <td>...</td>\n",
       "      <td>...</td>\n",
       "      <td>...</td>\n",
       "      <td>...</td>\n",
       "      <td>...</td>\n",
       "      <td>...</td>\n",
       "      <td>...</td>\n",
       "    </tr>\n",
       "    <tr>\n",
       "      <th>96</th>\n",
       "      <td>2021-04-07 21:10:46.606290</td>\n",
       "      <td>49.393159</td>\n",
       "      <td>46.909898</td>\n",
       "      <td>47.006462</td>\n",
       "      <td>42.552599</td>\n",
       "      <td>40.480900</td>\n",
       "      <td>1.734468</td>\n",
       "      <td>W</td>\n",
       "      <td>Pass</td>\n",
       "    </tr>\n",
       "    <tr>\n",
       "      <th>97</th>\n",
       "      <td>2021-04-07 21:20:46.606290</td>\n",
       "      <td>45.284317</td>\n",
       "      <td>43.970710</td>\n",
       "      <td>42.423319</td>\n",
       "      <td>40.016471</td>\n",
       "      <td>42.749833</td>\n",
       "      <td>1.774344</td>\n",
       "      <td>G</td>\n",
       "      <td>Pass</td>\n",
       "    </tr>\n",
       "    <tr>\n",
       "      <th>98</th>\n",
       "      <td>2021-04-07 21:44:46.606290</td>\n",
       "      <td>40.338265</td>\n",
       "      <td>48.142942</td>\n",
       "      <td>44.962105</td>\n",
       "      <td>44.183834</td>\n",
       "      <td>42.266489</td>\n",
       "      <td>1.536071</td>\n",
       "      <td>B</td>\n",
       "      <td>Pass</td>\n",
       "    </tr>\n",
       "    <tr>\n",
       "      <th>99</th>\n",
       "      <td>2021-04-07 20:57:46.606290</td>\n",
       "      <td>44.370998</td>\n",
       "      <td>44.302910</td>\n",
       "      <td>41.573708</td>\n",
       "      <td>44.862263</td>\n",
       "      <td>43.415233</td>\n",
       "      <td>1.107886</td>\n",
       "      <td>B</td>\n",
       "      <td>Fail</td>\n",
       "    </tr>\n",
       "    <tr>\n",
       "      <th>100</th>\n",
       "      <td>2021-04-07 21:46:46.606290</td>\n",
       "      <td>42.129533</td>\n",
       "      <td>49.362513</td>\n",
       "      <td>49.833119</td>\n",
       "      <td>48.611338</td>\n",
       "      <td>41.908125</td>\n",
       "      <td>1.651569</td>\n",
       "      <td>B</td>\n",
       "      <td>Fail</td>\n",
       "    </tr>\n",
       "  </tbody>\n",
       "</table>\n",
       "<p>100 rows × 9 columns</p>\n",
       "</div>"
      ],
      "text/plain": [
       "                         Timestamp         V1         V2         V3  \\\n",
       "LightID                                                               \n",
       "1       2021-04-07 20:53:46.605293  40.987615  46.679891  40.488626   \n",
       "2       2021-04-07 21:09:46.605293  48.106033  46.884894  41.052973   \n",
       "3       2021-04-07 21:46:46.605293  40.715893  46.007919  44.163590   \n",
       "4       2021-04-07 21:49:46.605293  48.016920  46.101348  45.459285   \n",
       "5       2021-04-07 21:24:46.605293  42.023001  42.660950  42.346841   \n",
       "...                            ...        ...        ...        ...   \n",
       "96      2021-04-07 21:10:46.606290  49.393159  46.909898  47.006462   \n",
       "97      2021-04-07 21:20:46.606290  45.284317  43.970710  42.423319   \n",
       "98      2021-04-07 21:44:46.606290  40.338265  48.142942  44.962105   \n",
       "99      2021-04-07 20:57:46.606290  44.370998  44.302910  41.573708   \n",
       "100     2021-04-07 21:46:46.606290  42.129533  49.362513  49.833119   \n",
       "\n",
       "                V4         V5  Distance Color Result  \n",
       "LightID                                               \n",
       "1        45.819454  45.736027  1.749414     B   Pass  \n",
       "2        47.393100  49.883844  1.427993     R   Fail  \n",
       "3        47.763488  47.862018  1.775409     R   Pass  \n",
       "4        41.196438  46.440977  1.698264     G   Pass  \n",
       "5        41.741622  42.625973  0.616251     B   Pass  \n",
       "...            ...        ...       ...   ...    ...  \n",
       "96       42.552599  40.480900  1.734468     W   Pass  \n",
       "97       40.016471  42.749833  1.774344     G   Pass  \n",
       "98       44.183834  42.266489  1.536071     B   Pass  \n",
       "99       44.862263  43.415233  1.107886     B   Fail  \n",
       "100      48.611338  41.908125  1.651569     B   Fail  \n",
       "\n",
       "[100 rows x 9 columns]"
      ]
     },
     "execution_count": 82,
     "metadata": {},
     "output_type": "execute_result"
    }
   ],
   "source": [
    "df"
   ]
  },
  {
   "cell_type": "code",
   "execution_count": 83,
   "id": "9ef57c20",
   "metadata": {},
   "outputs": [],
   "source": [
    "df.to_csv('data/measurements.csv',float_format='%.2f',header=True)"
   ]
  },
  {
   "cell_type": "code",
   "execution_count": 65,
   "id": "f640ee99",
   "metadata": {},
   "outputs": [],
   "source": []
  },
  {
   "cell_type": "code",
   "execution_count": null,
   "id": "8b901810",
   "metadata": {},
   "outputs": [],
   "source": []
  }
 ],
 "metadata": {
  "kernelspec": {
   "display_name": "Python 3",
   "language": "python",
   "name": "python3"
  },
  "language_info": {
   "codemirror_mode": {
    "name": "ipython",
    "version": 3
   },
   "file_extension": ".py",
   "mimetype": "text/x-python",
   "name": "python",
   "nbconvert_exporter": "python",
   "pygments_lexer": "ipython3",
   "version": "3.8.8"
  }
 },
 "nbformat": 4,
 "nbformat_minor": 5
}
